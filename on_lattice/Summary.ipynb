{
 "cells": [
  {
   "cell_type": "markdown",
   "metadata": {},
   "source": [
    "# Summary"
   ]
  },
  {
   "cell_type": "code",
   "execution_count": 1,
   "metadata": {},
   "outputs": [],
   "source": [
    "%matplotlib widget\n",
    "import pickle\n",
    "import pandas as pd\n",
    "import matplotlib.pyplot as plt\n",
    "import numpy as np"
   ]
  },
  {
   "cell_type": "code",
   "execution_count": 39,
   "metadata": {},
   "outputs": [
    {
     "data": {
      "application/vnd.jupyter.widget-view+json": {
       "model_id": "8f183e8f72c4459cba84e23ea7ebdd6a",
       "version_major": 2,
       "version_minor": 0
      },
      "text/plain": [
       "Canvas(toolbar=Toolbar(toolitems=[('Home', 'Reset original view', 'home', 'home'), ('Back', 'Back to previous …"
      ]
     },
     "metadata": {},
     "output_type": "display_data"
    },
    {
     "data": {
      "text/plain": [
       "Text(0, 0.5, 'Mean Fractal Dimension')"
      ]
     },
     "execution_count": 39,
     "metadata": {},
     "output_type": "execute_result"
    }
   ],
   "source": [
    "# Fractal Dimension vs. Stickiness\n",
    "x = np.array([1, 0.75, 0.5, 0.25, 0.15, 0.10, 0.05, 0.03, 0.01, 0.001])\n",
    "y = np.array([1.690, 1.6873, 1.6988, 1.7157, 1.732, 1.764, 1.787, 1.847, 1.939, 1.978])\n",
    "plt.figure()\n",
    "plt.plot(x,y,'b.-')\n",
    "for a,b in zip(x, y): \n",
    "    plt.text(a, b, str(b))\n",
    "#plt.title(f\"Fractal Dimension vs. Stickiness (Cluster Size 3000)\")\n",
    "plt.xlabel('Stickiness')\n",
    "plt.ylabel('Mean Fractal Dimension')"
   ]
  },
  {
   "cell_type": "code",
   "execution_count": 3,
   "metadata": {},
   "outputs": [
    {
     "data": {
      "application/vnd.jupyter.widget-view+json": {
       "model_id": "b0f5a5c89c404ab9801469dbfe361b82",
       "version_major": 2,
       "version_minor": 0
      },
      "text/plain": [
       "Canvas(toolbar=Toolbar(toolitems=[('Home', 'Reset original view', 'home', 'home'), ('Back', 'Back to previous …"
      ]
     },
     "metadata": {},
     "output_type": "display_data"
    },
    {
     "data": {
      "text/plain": [
       "Text(0, 0.5, 'Fractal Dimension')"
      ]
     },
     "execution_count": 3,
     "metadata": {},
     "output_type": "execute_result"
    }
   ],
   "source": [
    "# Fractal Dimension vs. Cluster Size\n",
    "x = np.array([101,201,301,401,501,1001,1501,2001,2501,3001,7501,15001,17223])\n",
    "y = np.array([1.717, 1.683, 1.669, 1.671, 1.660, 1.639,1.648, 1.658, 1.667, 1.678, 1.688, 1.692, 1.693])\n",
    "plt.figure()\n",
    "plt.plot(x,y,'b.-')\n",
    "for a,b in zip(x, y): \n",
    "    plt.text(a, b, str(b))\n",
    "plt.title(f\"Fractal Dimension vs. Cluster Size\")\n",
    "plt.xlabel('Cluster Size')\n",
    "plt.ylabel('Fractal Dimension')"
   ]
  },
  {
   "cell_type": "code",
   "execution_count": 2,
   "metadata": {},
   "outputs": [
    {
     "data": {
      "application/vnd.jupyter.widget-view+json": {
       "model_id": "e2383a52b01d4014af705a20882d9b1a",
       "version_major": 2,
       "version_minor": 0
      },
      "text/plain": [
       "Canvas(toolbar=Toolbar(toolitems=[('Home', 'Reset original view', 'home', 'home'), ('Back', 'Back to previous …"
      ]
     },
     "metadata": {},
     "output_type": "display_data"
    },
    {
     "data": {
      "text/plain": [
       "Text(0, 0.5, 'Fractal Dimension')"
      ]
     },
     "execution_count": 2,
     "metadata": {},
     "output_type": "execute_result"
    }
   ],
   "source": [
    "# Fractal Dimension vs. Neighboring\n",
    "x = np.array([3, 5, 7, 9])\n",
    "y = np.array([1.673, 1.636, 1.589, 1.543])\n",
    "plt.figure()\n",
    "plt.bar(x,y)\n",
    "plt.plot(x,y,'k.-')\n",
    "plt.ylim([0,2])\n",
    "for a,b in zip(x, y): \n",
    "    plt.text(a-0.3, b+0.1, str(b))\n",
    "plt.title(f\"Fractal Dimension vs. Neighboring Range\")\n",
    "plt.xlabel('Neighboring Range $n * n$')\n",
    "plt.ylabel('Fractal Dimension')"
   ]
  },
  {
   "cell_type": "code",
   "execution_count": 45,
   "metadata": {},
   "outputs": [
    {
     "data": {
      "application/vnd.jupyter.widget-view+json": {
       "model_id": "11127c17862c42089fce7dfe10c51e42",
       "version_major": 2,
       "version_minor": 0
      },
      "text/plain": [
       "Canvas(toolbar=Toolbar(toolitems=[('Home', 'Reset original view', 'home', 'home'), ('Back', 'Back to previous …"
      ]
     },
     "metadata": {},
     "output_type": "display_data"
    },
    {
     "data": {
      "text/plain": [
       "Text(0, 0.5, 'Mean (Fractal Dimension')"
      ]
     },
     "execution_count": 45,
     "metadata": {},
     "output_type": "execute_result"
    }
   ],
   "source": [
    "y = np.array([[1.717, 1.431, 1.574, 1.897, 1.992, 1.552, 1.660, 1.485, 1.598, 1.795],\n",
    "              [1.590, 1.900, 1.757, 1.648, 1.711, 1.626, 1.595, 1.655, 1.653, 1.797],\n",
    "              [1.574, 1.992, 1.900, 1.686, 1.575, 1.595, 1.629, 1.686, 1.610, 1.748],\n",
    "              [1.646, 1.914, 1.856, 1.677, 1.577, 1.599, 1.640, 1.696, 1.624, 1.719],\n",
    "              [1.640, 1.830, 1.643, 1.709, 1.570, 1.583, 1.649, 1.724, 1.640, 1.727],\n",
    "              [1.688, 1.601, 1.667, 1.710, 1.597, 1.632, 1.656, 1.744, 1.667, 1.735],\n",
    "              [1.666, 1.618, 1.679, 1.695, 1.601, 1.660, 1.650, 1.682, 1.750, 1.743],\n",
    "              [1.683, 1.738, 1.746, 1.656, 1.671, 1.627, 1.693, 1.682, 1.625, 1.667],\n",
    "              [1.659, 1.692, 1.710, 1.693, 1.676, 1.714, 1.659, 1.746, 1.689, 1.733],\n",
    "              [1.664, 1.710, 1.692, 1.716, 1.657, 1.671, 1.715, 1.701, 1.683, 1.687],\n",
    "              [1.711, 1.702, 1.657, 1.661, 1.722, 1.715, 1.687, 1.723, 1.688, 1.699]])\n",
    "x = np.array([100, 200, 300, 400, 500, 1000, 2000, 3000, 7500, 15000, 20000])\n",
    "plt.figure()\n",
    "plt.plot(x,np.mean(y, axis=1),'b.-')\n",
    "plt.ylim([1.5,2])\n",
    "#plt.title(f\"Mean Fractal Dimension vs. Cluster Size (Sample = 10)\")\n",
    "plt.xlabel('Cluster Size')\n",
    "plt.ylabel('Mean (Fractal Dimension')"
   ]
  },
  {
   "cell_type": "code",
   "execution_count": null,
   "metadata": {},
   "outputs": [],
   "source": []
  }
 ],
 "metadata": {
  "kernelspec": {
   "display_name": "Python 3",
   "language": "python",
   "name": "python3"
  },
  "language_info": {
   "codemirror_mode": {
    "name": "ipython",
    "version": 3
   },
   "file_extension": ".py",
   "mimetype": "text/x-python",
   "name": "python",
   "nbconvert_exporter": "python",
   "pygments_lexer": "ipython3",
   "version": "3.7.3"
  }
 },
 "nbformat": 4,
 "nbformat_minor": 4
}
