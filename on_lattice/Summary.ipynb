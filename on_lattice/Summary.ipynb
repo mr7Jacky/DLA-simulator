{
 "cells": [
  {
   "cell_type": "markdown",
   "metadata": {},
   "source": [
    "# Summary"
   ]
  },
  {
   "cell_type": "code",
   "execution_count": 2,
   "metadata": {},
   "outputs": [],
   "source": [
    "%matplotlib widget\n",
    "import pickle\n",
    "import matplotlib.pyplot as plt\n",
    "import numpy as np"
   ]
  },
  {
   "cell_type": "code",
   "execution_count": 2,
   "metadata": {},
   "outputs": [
    {
     "data": {
      "application/vnd.jupyter.widget-view+json": {
       "model_id": "97fe8480d86b4b13b9c7cfa1221edfc4",
       "version_major": 2,
       "version_minor": 0
      },
      "text/plain": [
       "Canvas(toolbar=Toolbar(toolitems=[('Home', 'Reset original view', 'home', 'home'), ('Back', 'Back to previous …"
      ]
     },
     "metadata": {},
     "output_type": "display_data"
    },
    {
     "data": {
      "text/plain": [
       "Text(0, 0.5, 'Fractal Dimension')"
      ]
     },
     "execution_count": 2,
     "metadata": {},
     "output_type": "execute_result"
    }
   ],
   "source": [
    "# Fractal Dimension vs. Stickiness\n",
    "x = np.array([1, 0.75, 0.5, 0.25, 0.15, 0.10, 0.05, 0.03, 0.01, 0.001])\n",
    "y = np.array([1.690, 1.648, 1.673, 1.630, 1.732, 1.764, 1.787, 1.847, 1.939, 1.978])\n",
    "plt.figure()\n",
    "plt.plot(x,y,'b.-')\n",
    "for a,b in zip(x, y): \n",
    "    plt.text(a, b, str(b))\n",
    "plt.title(f\"Fractal Dimension vs. Stickiness (Cluster Size 3000)\")\n",
    "plt.xlabel('Stickiness')\n",
    "plt.ylabel('Fractal Dimension')"
   ]
  },
  {
   "cell_type": "code",
   "execution_count": 3,
   "metadata": {},
   "outputs": [
    {
     "data": {
      "application/vnd.jupyter.widget-view+json": {
       "model_id": "b0f5a5c89c404ab9801469dbfe361b82",
       "version_major": 2,
       "version_minor": 0
      },
      "text/plain": [
       "Canvas(toolbar=Toolbar(toolitems=[('Home', 'Reset original view', 'home', 'home'), ('Back', 'Back to previous …"
      ]
     },
     "metadata": {},
     "output_type": "display_data"
    },
    {
     "data": {
      "text/plain": [
       "Text(0, 0.5, 'Fractal Dimension')"
      ]
     },
     "execution_count": 3,
     "metadata": {},
     "output_type": "execute_result"
    }
   ],
   "source": [
    "# Fractal Dimension vs. Cluster Size\n",
    "x = np.array([101,201,301,401,501,1001,1501,2001,2501,3001,7501,15001,17223])\n",
    "y = np.array([1.717, 1.683, 1.669, 1.671, 1.660, 1.639,1.648, 1.658, 1.667, 1.678, 1.688, 1.692, 1.693])\n",
    "plt.figure()\n",
    "plt.plot(x,y,'b.-')\n",
    "for a,b in zip(x, y): \n",
    "    plt.text(a, b, str(b))\n",
    "plt.title(f\"Fractal Dimension vs. Cluster Size\")\n",
    "plt.xlabel('Cluster Size')\n",
    "plt.ylabel('Fractal Dimension')"
   ]
  },
  {
   "cell_type": "code",
   "execution_count": 17,
   "metadata": {},
   "outputs": [
    {
     "data": {
      "application/vnd.jupyter.widget-view+json": {
       "model_id": "1720d54f85de4603a416cdf2936702de",
       "version_major": 2,
       "version_minor": 0
      },
      "text/plain": [
       "Canvas(toolbar=Toolbar(toolitems=[('Home', 'Reset original view', 'home', 'home'), ('Back', 'Back to previous …"
      ]
     },
     "metadata": {},
     "output_type": "display_data"
    },
    {
     "data": {
      "text/plain": [
       "Text(0, 0.5, 'Fractal Dimension')"
      ]
     },
     "execution_count": 17,
     "metadata": {},
     "output_type": "execute_result"
    }
   ],
   "source": [
    "# Fractal Dimension vs. Neighboring\n",
    "x = np.array([3, 5, 7, 9])\n",
    "y = np.array([1.673, 1.636, 1.589, 1.543])\n",
    "plt.figure()\n",
    "plt.bar(x,y)\n",
    "plt.plot(x,y,'k.-')\n",
    "plt.ylim([0,2])\n",
    "for a,b in zip(x, y): \n",
    "    plt.text(a-0.3, b+0.1, str(b))\n",
    "plt.title(f\"Fractal Dimension vs. Neighboring Range\")\n",
    "plt.xlabel('Neighboring Range $n * n$')\n",
    "plt.ylabel('Fractal Dimension')"
   ]
  },
  {
   "cell_type": "code",
   "execution_count": null,
   "metadata": {},
   "outputs": [],
   "source": []
  }
 ],
 "metadata": {
  "kernelspec": {
   "display_name": "Python 3",
   "language": "python",
   "name": "python3"
  },
  "language_info": {
   "codemirror_mode": {
    "name": "ipython",
    "version": 3
   },
   "file_extension": ".py",
   "mimetype": "text/x-python",
   "name": "python",
   "nbconvert_exporter": "python",
   "pygments_lexer": "ipython3",
   "version": "3.7.3"
  }
 },
 "nbformat": 4,
 "nbformat_minor": 4
}
