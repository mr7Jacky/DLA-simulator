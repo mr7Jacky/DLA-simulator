{
 "cells": [
  {
   "cell_type": "code",
   "execution_count": 6,
   "metadata": {},
   "outputs": [],
   "source": [
    "%matplotlib inline\n",
    "import pickle\n",
    "import matplotlib.pyplot as plt\n",
    "import numpy as np"
   ]
  },
  {
   "cell_type": "code",
   "execution_count": 2,
   "metadata": {},
   "outputs": [],
   "source": [
    "def calculate_fractal_dim(dla_lattice):\n",
    "    leni, lenj = dla_lattice.shape\n",
    "\n",
    "    LMIDi = int(leni / 2)\n",
    "    LMIDj = int(lenj / 2)\n",
    "    LMID = min(LMIDi, LMIDj)  # let's ensure quadratic boxes which fit on DLAlattice\n",
    "    size_vs_num = np.zeros((LMID, 2))\n",
    "    prev_num = 0\n",
    "    # loop over s which gives b=2*s+1\n",
    "    for size in range(LMID):\n",
    "        num = 0\n",
    "        # loop over lattice\n",
    "        for x in range(LMIDi - size, LMIDi + size + 1):\n",
    "            for y in range(LMIDj - size, LMIDj + size + 1):\n",
    "                num += dla_lattice[x, y]\n",
    "        if size > 5 and num == prev_num:\n",
    "             break\n",
    "        if num > 0:\n",
    "            size_vs_num[size] = np.array([np.log(2 * size + 1), np.log(num)])\n",
    "        prev_num = num\n",
    "    return size_vs_num[np.nonzero(size_vs_num[:,1])]"
   ]
  },
  {
   "cell_type": "code",
   "execution_count": 4,
   "metadata": {},
   "outputs": [],
   "source": [
    "size = '27223'\n",
    "dla_lattice = np.loadtxt(size + '.dat').astype('int')\n",
    "size_vs_num = calculate_fractal_dim(dla_lattice)"
   ]
  },
  {
   "cell_type": "code",
   "execution_count": 12,
   "metadata": {},
   "outputs": [
    {
     "data": {
      "text/plain": [
       "Text(0.5, 1.0, 'Neighboring Range 3 * 3')"
      ]
     },
     "execution_count": 12,
     "metadata": {},
     "output_type": "execute_result"
    },
    {
     "data": {
      "image/png": "[encoded data removed]",
      "text/plain": [
       "<Figure size 288x288 with 1 Axes>"
      ]
     },
     "metadata": {
      "needs_background": "light"
     },
     "output_type": "display_data"
    }
   ],
   "source": [
    "plt.matshow(dla_lattice, cmap='gray')\n",
    "plt.xlim([400,1100])\n",
    "plt.ylim([400,1200])\n",
    "plt.title(f\"Neighboring Range 3 * 3\")"
   ]
  },
  {
   "cell_type": "code",
   "execution_count": 12,
   "metadata": {},
   "outputs": [
    {
     "data": {
      "application/vnd.jupyter.widget-view+json": {
       "model_id": "be624d42bc044c05aeb2854082dd9b34",
       "version_major": 2,
       "version_minor": 0
      },
      "text/plain": [
       "Canvas(toolbar=Toolbar(toolitems=[('Home', 'Reset original view', 'home', 'home'), ('Back', 'Back to previous …"
      ]
     },
     "metadata": {},
     "output_type": "display_data"
    },
    {
     "data": {
      "text/plain": [
       "<matplotlib.legend.Legend at 0x7f9606aae6d8>"
      ]
     },
     "execution_count": 12,
     "metadata": {},
     "output_type": "execute_result"
    }
   ],
   "source": [
    "plt.figure(figsize = (4,4))\n",
    "start = np.where(size_vs_num[:,0] < 3)[0][-1]\n",
    "end = np.where(size_vs_num[:,0] >5.3)[0][0]\n",
    "p = np.polyfit(size_vs_num[start:end, 0], size_vs_num[start:end, 1], 1)\n",
    "y_fit = np.polyval(p,size_vs_num[:, 0])\n",
    "fitinfo = 'polyfit = %.3fx+%.3f' % (p[0],p[1])\n",
    "#plt.plot(size_vs_num[start:end, 0], size_vs_num[start:end, 1],'b.-',label='data point')\n",
    "plt.plot(size_vs_num[:, 0], size_vs_num[:, 1],'b.-',label='data point')\n",
    "plt.plot(size_vs_num[:, 0], y_fit,'r-',label=fitinfo)\n",
    "plt.title(f\"Fractal Dimension\")\n",
    "plt.xlabel('$log(b) = log(2*s+1)')\n",
    "plt.ylabel('$log(N)$')\n",
    "plt.legend()"
   ]
  },
  {
   "cell_type": "code",
   "execution_count": null,
   "metadata": {},
   "outputs": [],
   "source": []
  }
 ],
 "metadata": {
  "kernelspec": {
   "display_name": "Python 3",
   "language": "python",
   "name": "python3"
  },
  "language_info": {
   "codemirror_mode": {
    "name": "ipython",
    "version": 3
   },
   "file_extension": ".py",
   "mimetype": "text/x-python",
   "name": "python",
   "nbconvert_exporter": "python",
   "pygments_lexer": "ipython3",
   "version": "3.8.5"
  }
 },
 "nbformat": 4,
 "nbformat_minor": 4
}
