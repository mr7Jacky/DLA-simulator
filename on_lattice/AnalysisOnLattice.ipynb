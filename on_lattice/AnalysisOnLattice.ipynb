{
 "cells": [
  {
   "cell_type": "code",
   "execution_count": 2,
   "metadata": {},
   "outputs": [],
   "source": [
    "%matplotlib widget\n",
    "import pickle\n",
    "import matplotlib.pyplot as plt\n",
    "import numpy as np"
   ]
  },
  {
   "cell_type": "code",
   "execution_count": 21,
   "metadata": {},
   "outputs": [],
   "source": [
    "def calculate_fractal_dim(dla_lattice):\n",
    "    leni, lenj = dla_lattice.shape\n",
    "\n",
    "    LMIDi = int(leni / 2)\n",
    "    LMIDj = int(lenj / 2)\n",
    "    LMID = min(LMIDi, LMIDj)  # let's ensure quadratic boxes which fit on DLAlattice\n",
    "    size_vs_num = np.zeros((LMID, 2))\n",
    "    prev_num = 0\n",
    "    # loop over s which gives b=2*s+1\n",
    "    for size in range(LMID):\n",
    "        num = 0\n",
    "        # loop over lattice\n",
    "        for x in range(LMIDi - size, LMIDi + size + 1):\n",
    "            for y in range(LMIDj - size, LMIDj + size + 1):\n",
    "                num += dla_lattice[x, y]\n",
    "#         if size > 5 and num == prev_num:\n",
    "#             break\n",
    "        if num > 0:\n",
    "            size_vs_num[size] = np.array([np.log(2 * size + 1), np.log(num)])\n",
    "        prev_num = num\n",
    "    return size_vs_num[np.nonzero(size_vs_num[:,1])]"
   ]
  },
  {
   "cell_type": "code",
   "execution_count": 58,
   "metadata": {},
   "outputs": [
    {
     "name": "stdout",
     "output_type": "stream",
     "text": [
      "(747, 2)\n"
     ]
    }
   ],
   "source": [
    "size = '7'\n",
    "DF = 1.71\n",
    "dla_lattice = np.loadtxt(size + '.dat').astype('int')\n",
    "size_vs_num = calculate_fractal_dim(dla_lattice)\n",
    "print(size_vs_num.shape)"
   ]
  },
  {
   "cell_type": "code",
   "execution_count": 59,
   "metadata": {},
   "outputs": [
    {
     "data": {
      "application/vnd.jupyter.widget-view+json": {
       "model_id": "d02bf6e82c08494f9d8bde8a80973a39",
       "version_major": 2,
       "version_minor": 0
      },
      "text/plain": [
       "Canvas(toolbar=Toolbar(toolitems=[('Home', 'Reset original view', 'home', 'home'), ('Back', 'Back to previous …"
      ]
     },
     "metadata": {},
     "output_type": "display_data"
    },
    {
     "data": {
      "text/plain": [
       "Text(0.5, 1.0, 'Neighboring Range 3 * 3')"
      ]
     },
     "execution_count": 59,
     "metadata": {},
     "output_type": "execute_result"
    }
   ],
   "source": [
    "plt.matshow(dla_lattice, cmap='gray')\n",
    "plt.xlim([650,850])\n",
    "plt.ylim([650,850])\n",
    "plt.title(f\"Neighboring Range 3 * 3\")"
   ]
  },
  {
   "cell_type": "code",
   "execution_count": 64,
   "metadata": {},
   "outputs": [
    {
     "data": {
      "application/vnd.jupyter.widget-view+json": {
       "model_id": "c8809172503947ed9b32e3c4e2391d51",
       "version_major": 2,
       "version_minor": 0
      },
      "text/plain": [
       "Canvas(toolbar=Toolbar(toolitems=[('Home', 'Reset original view', 'home', 'home'), ('Back', 'Back to previous …"
      ]
     },
     "metadata": {},
     "output_type": "display_data"
    },
    {
     "name": "stdout",
     "output_type": "stream",
     "text": [
      "8 71\n"
     ]
    },
    {
     "data": {
      "text/plain": [
       "<matplotlib.legend.Legend at 0x7fa4bdacaef0>"
      ]
     },
     "execution_count": 64,
     "metadata": {},
     "output_type": "execute_result"
    }
   ],
   "source": [
    "plt.figure()\n",
    "# plot the data\n",
    "# find the optimal fit line\n",
    "# t = size_vs_num.copy()\n",
    "# ps = np.array([np.polyfit(t[0:i, 0], t[0:i, 1], 1) for i in range(2,len(size_vs_num))])\n",
    "# ps = ps[np.abs(ps[...,0] - DF) < 0.1]\n",
    "# p = np.mean(ps,axis=0)\n",
    "# print(p)\n",
    "start = np.where(size_vs_num[:,0] < 3.2)[0][-1]\n",
    "end = np.where(size_vs_num[:,0] >5)[0][0]\n",
    "print(start, end)\n",
    "p = np.polyfit(size_vs_num[start:end, 0], size_vs_num[start:end, 1], 1)\n",
    "y_fit = np.polyval(p,size_vs_num[:, 0])\n",
    "fitinfo = 'mean poly fit = %.3fx+%.3f' % (p[0],p[1])\n",
    "#plt.plot(size_vs_num[start:end, 0], size_vs_num[start:end, 1],'b.-',label='data point')\n",
    "plt.plot(size_vs_num[:, 0], size_vs_num[:, 1],'b.-',label='data point')\n",
    "plt.plot(size_vs_num[:, 0], y_fit,'r-',label=fitinfo)\n",
    "plt.title(f\"Fractal Dimension of Cluster with Neighboring Range 5 * 5\")\n",
    "plt.xlabel('log(b) = log(2*s+1)')\n",
    "plt.ylabel('log(N)')\n",
    "plt.legend()"
   ]
  },
  {
   "cell_type": "code",
   "execution_count": 86,
   "metadata": {},
   "outputs": [
    {
     "data": {
      "application/vnd.jupyter.widget-view+json": {
       "model_id": "bd00b413b9a74ebcaf4037956eb1652e",
       "version_major": 2,
       "version_minor": 0
      },
      "text/plain": [
       "Canvas(toolbar=Toolbar(toolitems=[('Home', 'Reset original view', 'home', 'home'), ('Back', 'Back to previous …"
      ]
     },
     "metadata": {},
     "output_type": "display_data"
    },
    {
     "data": {
      "text/plain": [
       "Text(0, 0.5, 'Fractal Dimension')"
      ]
     },
     "execution_count": 86,
     "metadata": {},
     "output_type": "execute_result"
    }
   ],
   "source": [
    "# Fractal Dimension vs. Stickiness\n",
    "x = np.array([101,201,301,401,501,1001,1501,2001,2501,3001,7501,15001,17223])\n",
    "y = np.array([1.717, 1.683, 1.669, 1.671, 1.660, 1.639,1.648, 1.658, 1.667, 1.678, 1.688, 1.692, 1.693])\n",
    "plt.figure()\n",
    "plt.plot(x,y,'b.-')\n",
    "for a,b in zip(x, y): \n",
    "    plt.text(a, b, str(b))\n",
    "plt.title(f\"Fractal Dimension vs. Cluster Size\")\n",
    "plt.xlabel('Cluster Size')\n",
    "plt.ylabel('Fractal Dimension')"
   ]
  }
 ],
 "metadata": {
  "kernelspec": {
   "display_name": "Python 3",
   "language": "python",
   "name": "python3"
  },
  "language_info": {
   "codemirror_mode": {
    "name": "ipython",
    "version": 3
   },
   "file_extension": ".py",
   "mimetype": "text/x-python",
   "name": "python",
   "nbconvert_exporter": "python",
   "pygments_lexer": "ipython3",
   "version": "3.7.3"
  }
 },
 "nbformat": 4,
 "nbformat_minor": 4
}
