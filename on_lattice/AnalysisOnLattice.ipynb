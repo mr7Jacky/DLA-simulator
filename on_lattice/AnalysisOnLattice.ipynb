{
 "cells": [
  {
   "cell_type": "code",
   "execution_count": 1,
   "metadata": {},
   "outputs": [],
   "source": [
    "%matplotlib widget\n",
    "import pickle\n",
    "import matplotlib.pyplot as plt\n",
    "import numpy as np"
   ]
  },
  {
   "cell_type": "code",
   "execution_count": 2,
   "metadata": {},
   "outputs": [],
   "source": [
    "def calculate_fractal_dim(dla_lattice):\n",
    "    leni, lenj = dla_lattice.shape\n",
    "\n",
    "    LMIDi = int(leni / 2)\n",
    "    LMIDj = int(lenj / 2)\n",
    "    LMID = min(LMIDi, LMIDj)  # let's ensure quadratic boxes which fit on DLAlattice\n",
    "    size_vs_num = np.zeros((LMID, 2))\n",
    "    # loop over s which gives b=2*s+1\n",
    "    for size in range(LMID):\n",
    "        num = 0\n",
    "        # loop over lattice\n",
    "        for x in range(LMIDi - size, LMIDi + size + 1):\n",
    "            for y in range(LMIDj - size, LMIDj + size + 1):\n",
    "                num += dla_lattice[x, y]\n",
    "        if num > 0:\n",
    "            size_vs_num[size] = np.array([np.log(2 * size + 1), np.log(num)])\n",
    "    return size_vs_num\n",
    "\n"
   ]
  },
  {
   "cell_type": "code",
   "execution_count": 4,
   "metadata": {},
   "outputs": [],
   "source": [
    "# read big DLA cluster array from data-file and assign array to it\n",
    "dla_lattice = np.loadtxt('30001.dat').astype('int')\n",
    "# to know the size of the array leni x lenj use .shape\n",
    "size_vs_num = calculate_fractal_dim(dla_lattice)"
   ]
  },
  {
   "cell_type": "code",
   "execution_count": 14,
   "metadata": {},
   "outputs": [
    {
     "data": {
      "application/vnd.jupyter.widget-view+json": {
       "model_id": "7e2cd280c89e4da0bdc61652e98c10a9",
       "version_major": 2,
       "version_minor": 0
      },
      "text/plain": [
       "Canvas(toolbar=Toolbar(toolitems=[('Home', 'Reset original view', 'home', 'home'), ('Back', 'Back to previous …"
      ]
     },
     "metadata": {},
     "output_type": "display_data"
    },
    {
     "data": {
      "text/plain": [
       "<matplotlib.collections.PathCollection at 0x7fb04e934470>"
      ]
     },
     "execution_count": 14,
     "metadata": {},
     "output_type": "execute_result"
    }
   ],
   "source": [
    "plt.figure()\n",
    "plt.scatter(size_vs_num[:, 0], size_vs_num[:, 1])"
   ]
  },
  {
   "cell_type": "code",
   "execution_count": 26,
   "metadata": {},
   "outputs": [
    {
     "name": "stdout",
     "output_type": "stream",
     "text": [
      "[ 1.7588682  -0.34343727]\n"
     ]
    }
   ],
   "source": [
    "idx = np.where(size_vs_num > 6)[0][1]\n",
    "idx_e = np.where(size_vs_num < 2)[0][-1]\n",
    "p = np.polyfit(size_vs_num[idx_e:idx, 0], size_vs_num[idx_e:idx, 1], 1)\n",
    "print(p)"
   ]
  },
  {
   "cell_type": "code",
   "execution_count": 13,
   "metadata": {},
   "outputs": [],
   "source": [
    "# read big DLA cluster array from data-file and assign array to it\n",
    "dla_lattice = np.loadtxt('2431.dat').astype('int')\n",
    "# to know the size of the array leni x lenj use .shape\n",
    "svn = calculate_fractal_dim(dla_lattice)"
   ]
  },
  {
   "cell_type": "code",
   "execution_count": 15,
   "metadata": {},
   "outputs": [
    {
     "data": {
      "application/vnd.jupyter.widget-view+json": {
       "model_id": "e8b58f45846c4351adbc9a545ae16f29",
       "version_major": 2,
       "version_minor": 0
      },
      "text/plain": [
       "Canvas(toolbar=Toolbar(toolitems=[('Home', 'Reset original view', 'home', 'home'), ('Back', 'Back to previous …"
      ]
     },
     "metadata": {},
     "output_type": "display_data"
    },
    {
     "data": {
      "text/plain": [
       "<matplotlib.collections.PathCollection at 0x7fb04d79e8d0>"
      ]
     },
     "execution_count": 15,
     "metadata": {},
     "output_type": "execute_result"
    }
   ],
   "source": [
    "plt.figure()\n",
    "plt.scatter(svn[:, 0], svn[:, 1])"
   ]
  },
  {
   "cell_type": "code",
   "execution_count": 21,
   "metadata": {},
   "outputs": [
    {
     "name": "stdout",
     "output_type": "stream",
     "text": [
      "[ 1.65658922 -0.04232958]\n"
     ]
    }
   ],
   "source": [
    "idx = np.where(svn[:, 0] >4)[0][1]\n",
    "p = np.polyfit(size_vs_num[:idx, 0], size_vs_num[:idx, 1], 1)\n",
    "print(p)"
   ]
  }
 ],
 "metadata": {
  "kernelspec": {
   "display_name": "Python 3",
   "language": "python",
   "name": "python3"
  },
  "language_info": {
   "codemirror_mode": {
    "name": "ipython",
    "version": 3
   },
   "file_extension": ".py",
   "mimetype": "text/x-python",
   "name": "python",
   "nbconvert_exporter": "python",
   "pygments_lexer": "ipython3",
   "version": "3.7.3"
  }
 },
 "nbformat": 4,
 "nbformat_minor": 4
}
