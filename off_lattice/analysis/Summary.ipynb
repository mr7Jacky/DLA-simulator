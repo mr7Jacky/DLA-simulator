{
 "cells": [
  {
   "cell_type": "code",
   "execution_count": 20,
   "metadata": {},
   "outputs": [],
   "source": [
    "%matplotlib widget\n",
    "import pickle\n",
    "import matplotlib.pyplot as plt\n",
    "import numpy as np\n",
    "import time"
   ]
  },
  {
   "cell_type": "code",
   "execution_count": 9,
   "metadata": {},
   "outputs": [
    {
     "data": {
      "application/vnd.jupyter.widget-view+json": {
       "model_id": "f04fa9561d924a65842fc22ca2f824d2",
       "version_major": 2,
       "version_minor": 0
      },
      "text/plain": [
       "Canvas(toolbar=Toolbar(toolitems=[('Home', 'Reset original view', 'home', 'home'), ('Back', 'Back to previous …"
      ]
     },
     "metadata": {},
     "output_type": "display_data"
    }
   ],
   "source": [
    "# Fractal Dimension vs. Stickiness\n",
    "x = np.array([1, 2, 3, 4, 5])\n",
    "y = np.array([1.71909421, 1.70377081, 1.70973426  ,1.69553137, 1.71173228])\n",
    "plt.figure()\n",
    "plt.plot(x,y,'b.-')\n",
    "for a,b in zip(x, y): \n",
    "    plt.text(a, b, str(b))\n",
    "#plt.title(f\"Fractal Dimension vs. Alpha (Cluster Size 3000)\")\n",
    "plt.xlabel('Alpha')\n",
    "plt.ylabel('Fractal Dimension')\n",
    "plt.xticks([1, 2, 3, 4, 5])\n",
    "plt.ylim([1.5, 2])\n",
    "plt.tight_layout()"
   ]
  },
  {
   "cell_type": "code",
   "execution_count": 10,
   "metadata": {},
   "outputs": [
    {
     "data": {
      "text/plain": [
       "0.00791666712406323"
      ]
     },
     "execution_count": 10,
     "metadata": {},
     "output_type": "execute_result"
    }
   ],
   "source": [
    "np.std(y)"
   ]
  }
 ],
 "metadata": {
  "kernelspec": {
   "display_name": "Python 3",
   "language": "python",
   "name": "python3"
  },
  "language_info": {
   "codemirror_mode": {
    "name": "ipython",
    "version": 3
   },
   "file_extension": ".py",
   "mimetype": "text/x-python",
   "name": "python",
   "nbconvert_exporter": "python",
   "pygments_lexer": "ipython3",
   "version": "3.7.3"
  }
 },
 "nbformat": 4,
 "nbformat_minor": 4
}
