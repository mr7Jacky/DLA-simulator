{
 "cells": [
  {
   "cell_type": "code",
   "execution_count": 1,
   "metadata": {},
   "outputs": [],
   "source": [
    "%matplotlib widget\n",
    "import pickle\n",
    "from Particle import Particle\n",
    "import matplotlib.pyplot as plt\n",
    "import numpy as np"
   ]
  },
  {
   "cell_type": "code",
   "execution_count": 2,
   "metadata": {},
   "outputs": [],
   "source": [
    "filename = 'off_lat'\n",
    "infile = open(filename,'rb')\n",
    "cluster = pickle.load(infile)"
   ]
  },
  {
   "cell_type": "markdown",
   "metadata": {},
   "source": [
    "## Measure the radical distance"
   ]
  },
  {
   "cell_type": "code",
   "execution_count": 3,
   "metadata": {},
   "outputs": [],
   "source": [
    "def dist(a,b):\n",
    "    return np.sqrt(np.sum(np.power(np.array(a)-np.array(b),2),axis=-1))"
   ]
  },
  {
   "cell_type": "code",
   "execution_count": 4,
   "metadata": {},
   "outputs": [],
   "source": [
    "def radical_fractal_dim(cluster, center, delta_r):\n",
    "    rads = np.array([dist(particle.loc, center) for particle in cluster])\n",
    "    r_max = np.max(rads, axis=-1)\n",
    "    r_ranges = np.arange(0,r_max+1,delta_r)\n",
    "    ret = np.zeros((r_ranges.shape[0],2))\n",
    "    for i in range(len(r_ranges)):\n",
    "        num = np.sum(rads < r_ranges[i])\n",
    "        if num > 0:\n",
    "            ret[i] = np.log([2*r_ranges[i]+1,num])\n",
    "    return ret"
   ]
  },
  {
   "cell_type": "code",
   "execution_count": 5,
   "metadata": {},
   "outputs": [],
   "source": [
    "svn = radical_fractal_dim(cluster, (250,250), 1)"
   ]
  },
  {
   "cell_type": "code",
   "execution_count": 6,
   "metadata": {},
   "outputs": [
    {
     "data": {
      "application/vnd.jupyter.widget-view+json": {
       "model_id": "b3e485ff65074127a80112af43752627",
       "version_major": 2,
       "version_minor": 0
      },
      "text/plain": [
       "Canvas(toolbar=Toolbar(toolitems=[('Home', 'Reset original view', 'home', 'home'), ('Back', 'Back to previous …"
      ]
     },
     "metadata": {},
     "output_type": "display_data"
    },
    {
     "name": "stdout",
     "output_type": "stream",
     "text": [
      "[ 1.762194   -1.71052408]\n"
     ]
    }
   ],
   "source": [
    "plt.figure(figsize = (4,2))\n",
    "plt.scatter(svn[:,0], svn[:,1])\n",
    "p = np.polyfit(svn[4:8,0], svn[4:8,1], 1)\n",
    "print(p)"
   ]
  },
  {
   "cell_type": "markdown",
   "metadata": {},
   "source": [
    "# Convert into on lattice measurement"
   ]
  },
  {
   "cell_type": "code",
   "execution_count": 118,
   "metadata": {},
   "outputs": [],
   "source": [
    "def to_lattice(cluster, center, sigma=1):\n",
    "    rads = np.array([dist(particle.loc, center) for particle in cluster])\n",
    "    r_max = np.max(rads, axis=-1)\n",
    "    side_len = (r_max+10)/sigma\n",
    "    lattice = np.zeros(np.ceil((side_len,side_len)).astype('int'))\n",
    "    for particle in cluster:\n",
    "        i = int((particle.loc[0]-center[0] + side_len//2)/sigma)\n",
    "        j = int((particle.loc[1]-center[1] + side_len//2)/sigma)\n",
    "        lattice[i, j] = 1\n",
    "    return lattice"
   ]
  },
  {
   "cell_type": "code",
   "execution_count": 119,
   "metadata": {},
   "outputs": [],
   "source": [
    "clus_lat = to_lattice(cluster, (250, 250), sigma=1)"
   ]
  },
  {
   "cell_type": "code",
   "execution_count": 120,
   "metadata": {},
   "outputs": [
    {
     "data": {
      "application/vnd.jupyter.widget-view+json": {
       "model_id": "30864da2e2a748e098410333ef6393ce",
       "version_major": 2,
       "version_minor": 0
      },
      "text/plain": [
       "Canvas(toolbar=Toolbar(toolitems=[('Home', 'Reset original view', 'home', 'home'), ('Back', 'Back to previous …"
      ]
     },
     "metadata": {},
     "output_type": "display_data"
    },
    {
     "data": {
      "text/plain": [
       "<matplotlib.image.AxesImage at 0x7f2f001afa90>"
      ]
     },
     "execution_count": 120,
     "metadata": {},
     "output_type": "execute_result"
    }
   ],
   "source": [
    "plt.figure(figsize = (2,2))\n",
    "plt.imshow(clus_lat, cmap='gray')"
   ]
  },
  {
   "cell_type": "code",
   "execution_count": null,
   "metadata": {},
   "outputs": [],
   "source": [
    "def map_range()\n",
    "    return output_start + ((output_end - output_start) / (input_end - input_start)) * (input - input_start)"
   ]
  },
  {
   "cell_type": "code",
   "execution_count": 121,
   "metadata": {},
   "outputs": [],
   "source": [
    "def calculate_fractal_dim(dla_lattice):\n",
    "    leni, lenj = dla_lattice.shape\n",
    "    LMIDi = int(leni / 2)\n",
    "    LMIDj = int(lenj / 2)\n",
    "    LMID = min(LMIDi, LMIDj)  # let's ensure quadratic boxes which fit on DLAlattice\n",
    "    size_vs_num = np.zeros((LMID, 2))\n",
    "    # loop over s which gives b=2*s+1\n",
    "    for size in range(LMID):\n",
    "        num = 0\n",
    "        # loop over lattice\n",
    "        for x in range(LMIDi - size, LMIDi + size + 1):\n",
    "            for y in range(LMIDj - size, LMIDj + size + 1):\n",
    "                num += dla_lattice[x, y]\n",
    "        if num > 0:\n",
    "            size_vs_num[size] = np.array([np.log(2 * size + 1), np.log(num)])\n",
    "    return size_vs_num"
   ]
  },
  {
   "cell_type": "code",
   "execution_count": 122,
   "metadata": {},
   "outputs": [],
   "source": [
    "size_vs_num = calculate_fractal_dim(mat)"
   ]
  },
  {
   "cell_type": "code",
   "execution_count": 123,
   "metadata": {},
   "outputs": [
    {
     "data": {
      "application/vnd.jupyter.widget-view+json": {
       "model_id": "e1e8d0a2ac9441faa6672e54582e5a05",
       "version_major": 2,
       "version_minor": 0
      },
      "text/plain": [
       "Canvas(toolbar=Toolbar(toolitems=[('Home', 'Reset original view', 'home', 'home'), ('Back', 'Back to previous …"
      ]
     },
     "metadata": {},
     "output_type": "display_data"
    },
    {
     "data": {
      "text/plain": [
       "<matplotlib.collections.PathCollection at 0x7f2f00114278>"
      ]
     },
     "execution_count": 123,
     "metadata": {},
     "output_type": "execute_result"
    }
   ],
   "source": [
    "plt.figure()\n",
    "plt.scatter(size_vs_num[:, 0], size_vs_num[:, 1])"
   ]
  },
  {
   "cell_type": "code",
   "execution_count": 124,
   "metadata": {},
   "outputs": [
    {
     "name": "stdout",
     "output_type": "stream",
     "text": [
      "73 549\n",
      "[ 2.23721908 -1.60776291]\n"
     ]
    }
   ],
   "source": [
    "idx = np.where(size_vs_num[:, 0] > 7)[0][1]\n",
    "idx_e = np.where(size_vs_num[:, 0] < 5)[0][-1]\n",
    "print(idx_e,idx)\n",
    "p = np.polyfit(size_vs_num[idx_e:idx, 0], size_vs_num[idx_e:idx, 1], 1)\n",
    "print(p)"
   ]
  },
  {
   "cell_type": "code",
   "execution_count": null,
   "metadata": {},
   "outputs": [],
   "source": []
  }
 ],
 "metadata": {
  "kernelspec": {
   "display_name": "Python 3",
   "language": "python",
   "name": "python3"
  },
  "language_info": {
   "codemirror_mode": {
    "name": "ipython",
    "version": 3
   },
   "file_extension": ".py",
   "mimetype": "text/x-python",
   "name": "python",
   "nbconvert_exporter": "python",
   "pygments_lexer": "ipython3",
   "version": "3.7.3"
  }
 },
 "nbformat": 4,
 "nbformat_minor": 4
}
