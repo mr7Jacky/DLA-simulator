{
 "cells": [
  {
   "cell_type": "code",
   "execution_count": 9,
   "metadata": {},
   "outputs": [],
   "source": [
    "%matplotlib widget\n",
    "import pickle\n",
    "from Particle import Particle\n",
    "import matplotlib.pyplot as plt\n",
    "import numpy as np"
   ]
  },
  {
   "cell_type": "code",
   "execution_count": 10,
   "metadata": {},
   "outputs": [],
   "source": [
    "filename = 'off_lat'\n",
    "infile = open(filename,'rb')\n",
    "cluster = pickle.load(infile)"
   ]
  },
  {
   "cell_type": "markdown",
   "metadata": {},
   "source": [
    "## Measure the radical distance"
   ]
  },
  {
   "cell_type": "code",
   "execution_count": 11,
   "metadata": {},
   "outputs": [
    {
     "data": {
      "text/plain": [
       "2.23606797749979"
      ]
     },
     "execution_count": 11,
     "metadata": {},
     "output_type": "execute_result"
    }
   ],
   "source": [
    "np.sqrt(np.sum(np.power(np.array((2,3))-np.array((1,1)),2),axis=-1))"
   ]
  },
  {
   "cell_type": "code",
   "execution_count": 12,
   "metadata": {},
   "outputs": [],
   "source": [
    "def dist(a,b):\n",
    "    return np.sqrt(np.sum(np.power(np.array(a)-np.array(b),2),axis=-1))"
   ]
  },
  {
   "cell_type": "code",
   "execution_count": 44,
   "metadata": {},
   "outputs": [],
   "source": [
    "def radical_fractal_dim(cluster, center, delta_r):\n",
    "    size = len(cluster)\n",
    "    rads = np.array([dist(particle.loc, center) for particle in cluster])\n",
    "    r_max = np.max(rads, axis=-1)\n",
    "    r_ranges = np.arange(0,r_max+1,delta_r)\n",
    "    ret = np.zeros_like(r_ranges)\n",
    "    for i in range(len(r_ranges)):\n",
    "        ret[i] = np.sum(rads < r_ranges[i])\n",
    "    return np.array([ret,r_ranges])"
   ]
  },
  {
   "cell_type": "code",
   "execution_count": 47,
   "metadata": {},
   "outputs": [],
   "source": [
    "svn = radical_fractal_dim(cluster, (250,250), 1)"
   ]
  },
  {
   "cell_type": "code",
   "execution_count": 49,
   "metadata": {},
   "outputs": [
    {
     "data": {
      "text/plain": [
       "array([0., 0.])"
      ]
     },
     "execution_count": 49,
     "metadata": {},
     "output_type": "execute_result"
    }
   ],
   "source": []
  },
  {
   "cell_type": "code",
   "execution_count": 51,
   "metadata": {},
   "outputs": [
    {
     "data": {
      "application/vnd.jupyter.widget-view+json": {
       "model_id": "3bf3d1c50b534b99ace452f6cc61d8d0",
       "version_major": 2,
       "version_minor": 0
      },
      "text/plain": [
       "Canvas(toolbar=Toolbar(toolitems=[('Home', 'Reset original view', 'home', 'home'), ('Back', 'Back to previous …"
      ]
     },
     "metadata": {},
     "output_type": "display_data"
    },
    {
     "name": "stdout",
     "output_type": "stream",
     "text": [
      "[0.39329893 0.20903848]\n"
     ]
    }
   ],
   "source": [
    "plt.figure()\n",
    "plt.scatter(svn[0], svn[1])\n",
    "p = np.polyfit(svn[0], svn[1], 1)\n",
    "print(p)"
   ]
  },
  {
   "cell_type": "markdown",
   "metadata": {},
   "source": [
    "# Convert into on lattice measurement"
   ]
  },
  {
   "cell_type": "code",
   "execution_count": 14,
   "metadata": {},
   "outputs": [],
   "source": [
    "def to_lattice(cluster, shape, sigma=1):\n",
    "    lattice = np.zeros(shape)\n",
    "    for particle in cluster:\n",
    "        i = int(particle.loc[0]/sigma)\n",
    "        j = int(particle.loc[1]/sigma)\n",
    "        lattice[i, j] = 1\n",
    "    return lattice"
   ]
  },
  {
   "cell_type": "code",
   "execution_count": 15,
   "metadata": {},
   "outputs": [],
   "source": [
    "clus_lat = to_lattice(cluster, shape=(500,500))"
   ]
  },
  {
   "cell_type": "code",
   "execution_count": 16,
   "metadata": {},
   "outputs": [
    {
     "data": {
      "application/vnd.jupyter.widget-view+json": {
       "model_id": "045f4a7adf5d42dd8b0d196c07bcccbe",
       "version_major": 2,
       "version_minor": 0
      },
      "text/plain": [
       "Canvas(toolbar=Toolbar(toolitems=[('Home', 'Reset original view', 'home', 'home'), ('Back', 'Back to previous …"
      ]
     },
     "metadata": {},
     "output_type": "display_data"
    },
    {
     "data": {
      "text/plain": [
       "<matplotlib.image.AxesImage at 0x7f2f096fb748>"
      ]
     },
     "execution_count": 16,
     "metadata": {},
     "output_type": "execute_result"
    }
   ],
   "source": [
    "plt.figure()\n",
    "plt.imshow(clus_lat, cmap='gray')"
   ]
  },
  {
   "cell_type": "code",
   "execution_count": 17,
   "metadata": {},
   "outputs": [],
   "source": [
    "def calculate_fractal_dim(dla_lattice):\n",
    "    leni, lenj = dla_lattice.shape\n",
    "    LMIDi = int(leni / 2)\n",
    "    LMIDj = int(lenj / 2)\n",
    "    LMID = min(LMIDi, LMIDj)  # let's ensure quadratic boxes which fit on DLAlattice\n",
    "    size_vs_num = np.zeros((LMID, 2))\n",
    "    # loop over s which gives b=2*s+1\n",
    "    for size in range(LMID):\n",
    "        num = 0\n",
    "        # loop over lattice\n",
    "        for x in range(LMIDi - size, LMIDi + size + 1):\n",
    "            for y in range(LMIDj - size, LMIDj + size + 1):\n",
    "                num += dla_lattice[x, y]\n",
    "        if num > 0:\n",
    "            size_vs_num[size] = np.array([np.log(2 * size + 1), np.log(num)])\n",
    "    return size_vs_num"
   ]
  },
  {
   "cell_type": "code",
   "execution_count": 18,
   "metadata": {},
   "outputs": [],
   "source": [
    "size_vs_num = calculate_fractal_dim(mat)"
   ]
  },
  {
   "cell_type": "code",
   "execution_count": 19,
   "metadata": {},
   "outputs": [
    {
     "data": {
      "application/vnd.jupyter.widget-view+json": {
       "model_id": "826a7a31a74c44dc8c5e6d9ccbc43211",
       "version_major": 2,
       "version_minor": 0
      },
      "text/plain": [
       "Canvas(toolbar=Toolbar(toolitems=[('Home', 'Reset original view', 'home', 'home'), ('Back', 'Back to previous …"
      ]
     },
     "metadata": {},
     "output_type": "display_data"
    },
    {
     "data": {
      "text/plain": [
       "<matplotlib.collections.PathCollection at 0x7f2f0967a0b8>"
      ]
     },
     "execution_count": 19,
     "metadata": {},
     "output_type": "execute_result"
    }
   ],
   "source": [
    "plt.figure()\n",
    "plt.scatter(size_vs_num[:, 0], size_vs_num[:, 1])"
   ]
  },
  {
   "cell_type": "code",
   "execution_count": 24,
   "metadata": {},
   "outputs": [
    {
     "name": "stdout",
     "output_type": "stream",
     "text": [
      "73 203\n",
      "[ 2.49229068 -3.04109493]\n"
     ]
    }
   ],
   "source": [
    "idx = np.where(size_vs_num[:, 0] > 6)[0][1]\n",
    "idx_e = np.where(size_vs_num[:, 0] < 5)[0][-1]\n",
    "print(idx_e,idx)\n",
    "p = np.polyfit(size_vs_num[idx_e:idx, 0], size_vs_num[idx_e:idx, 1], 1)\n",
    "print(p)"
   ]
  },
  {
   "cell_type": "code",
   "execution_count": null,
   "metadata": {},
   "outputs": [],
   "source": []
  }
 ],
 "metadata": {
  "kernelspec": {
   "display_name": "Python 3",
   "language": "python",
   "name": "python3"
  },
  "language_info": {
   "codemirror_mode": {
    "name": "ipython",
    "version": 3
   },
   "file_extension": ".py",
   "mimetype": "text/x-python",
   "name": "python",
   "nbconvert_exporter": "python",
   "pygments_lexer": "ipython3",
   "version": "3.7.3"
  }
 },
 "nbformat": 4,
 "nbformat_minor": 4
}
